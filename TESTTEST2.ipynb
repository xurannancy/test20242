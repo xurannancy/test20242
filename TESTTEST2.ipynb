{
 "cells": [
  {
   "cell_type": "code",
   "execution_count": null,
   "id": "fb772b52",
   "metadata": {},
   "outputs": [],
   "source": [
    "!pip install pandas\n",
    "!pip install matplotlib"
   ]
  },
  {
   "cell_type": "code",
   "execution_count": null,
   "id": "6d8bb258",
   "metadata": {},
   "outputs": [],
   "source": [
    "%matplotlib inline\n",
    "import math\n",
    "import random\n",
    "import matplotlib.pyplot as plt\n",
    "import pandas"
   ]
  },
  {
   "cell_type": "code",
   "execution_count": null,
   "id": "7608d477",
   "metadata": {
    "scrolled": true
   },
   "outputs": [],
   "source": [
    "import pandas\n",
    "series = pandas.read_csv('monthly_risk_aversion_BEX_20240131_student.csv', header=0,parse_dates=True)\n",
    "print(series.head())\n",
    "print(series['yyyymm'].head())"
   ]
  },
  {
   "cell_type": "code",
   "execution_count": null,
   "id": "5fec0d8d",
   "metadata": {},
   "outputs": [],
   "source": [
    "#plt.plot(series['yyyymm'], series['ra_bex_PAPER'], '-ro')\n",
    "series['yyyymm'] = pandas.to_datetime(series['yyyymm'])   # important line, to make the date variable more readable (for plot purpose)\n",
    "series['yyyymm'].dt.year.head()"
   ]
  },
  {
   "cell_type": "code",
   "execution_count": null,
   "id": "faaf9fbd",
   "metadata": {
    "scrolled": false
   },
   "outputs": [],
   "source": [
    "#plt.plot(series['yyyymm'], series['ra_bex_PAPER'], '-ro')\n",
    "plt.plot(series['yyyymm'], series['ra_bex_PAPER'], color='red')\n",
    "plt.title('BEX risk aversion index')\n",
    "plt.xlabel('Year')\n",
    "plt.show()"
   ]
  },
  {
   "cell_type": "code",
   "execution_count": null,
   "id": "2d8453d0",
   "metadata": {},
   "outputs": [],
   "source": [
    "import time\n",
    "time.ctime() "
   ]
  },
  {
   "cell_type": "code",
   "execution_count": null,
   "id": "03ca46bd",
   "metadata": {},
   "outputs": [],
   "source": []
  }
 ],
 "metadata": {
  "kernelspec": {
   "display_name": "Python 3 (ipykernel)",
   "language": "python",
   "name": "python3"
  },
  "language_info": {
   "codemirror_mode": {
    "name": "ipython",
    "version": 3
   },
   "file_extension": ".py",
   "mimetype": "text/x-python",
   "name": "python",
   "nbconvert_exporter": "python",
   "pygments_lexer": "ipython3",
   "version": "3.9.7"
  }
 },
 "nbformat": 4,
 "nbformat_minor": 5
}
